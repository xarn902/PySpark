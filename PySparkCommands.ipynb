{
    "cells": [
        {
            "cell_type": "code",
            "execution_count": 39,
            "source": [
                "import findspark\n",
                "import pyspark\n",
                "from pyspark.sql import *\n",
                "from pyspark import SparkContext, SparkConf\n",
                "import pathlib \n",
                "\n",
                "from pyspark.sql import SparkSession\n"
            ],
            "outputs": [],
            "metadata": {}
        },
        {
            "cell_type": "code",
            "execution_count": 12,
            "source": [
                "findspark.init()\n",
                "## Create Connection with Spark Cluster\n",
                "sc = pyspark.SparkContext(\n",
                "    master= 'spark://192.168.0.112:7077' ,\n",
                "    appName=\"PySparkCommands\")"
            ],
            "outputs": [
                {
                    "output_type": "stream",
                    "name": "stderr",
                    "text": [
                        "21/07/21 23:04:16 WARN Utils: Service 'SparkUI' could not bind on port 4040. Attempting port 4041.\n"
                    ]
                }
            ],
            "metadata": {}
        },
        {
            "cell_type": "code",
            "execution_count": null,
            "source": [
                "## Alternate mode to create a Session ##\n",
                "#spark = SparkSession.builder.appName('PysparkSession').getOrCreate()"
            ],
            "outputs": [],
            "metadata": {}
        },
        {
            "cell_type": "code",
            "execution_count": 13,
            "source": [
                "## Verifiying Connection\n",
                "print(sc.master)\n",
                "print(sc.appName)\n",
                "\n",
                "## Create SQL COntext\n",
                "sqlconext = SQLContext(sc)"
            ],
            "outputs": [
                {
                    "output_type": "stream",
                    "name": "stdout",
                    "text": [
                        "spark://192.168.0.112:7077\n",
                        "PySparkCommands\n"
                    ]
                }
            ],
            "metadata": {}
        },
        {
            "cell_type": "code",
            "execution_count": 25,
            "source": [
                "FilePath= pathlib.Path().resolve() / 'test1.csv'\n",
                "print(FilePath)"
            ],
            "outputs": [
                {
                    "output_type": "stream",
                    "name": "stdout",
                    "text": [
                        "/home/javier/Documents/DEV/PySpark/test1.csv\n"
                    ]
                }
            ],
            "metadata": {}
        },
        {
            "cell_type": "code",
            "execution_count": 26,
            "source": [
                "df=sqlconext.read.csv(str(FilePath), header=True, sep=',', inferSchema=True)"
            ],
            "outputs": [],
            "metadata": {}
        },
        {
            "cell_type": "code",
            "execution_count": 27,
            "source": [
                "df.show()"
            ],
            "outputs": [
                {
                    "output_type": "stream",
                    "name": "stdout",
                    "text": [
                        "+---------+---+----------+------+\n",
                        "|     Name|age|Experience|Salary|\n",
                        "+---------+---+----------+------+\n",
                        "|    Krish| 31|        10| 30000|\n",
                        "|Sudhanshu| 30|         8| 25000|\n",
                        "|    Sunny| 29|         4| 20000|\n",
                        "|     Paul| 24|         3| 20000|\n",
                        "|   Harsha| 21|         1| 15000|\n",
                        "|  Shubham| 23|         2| 18000|\n",
                        "+---------+---+----------+------+\n",
                        "\n"
                    ]
                }
            ],
            "metadata": {}
        },
        {
            "cell_type": "code",
            "execution_count": 28,
            "source": [
                "df.printSchema()"
            ],
            "outputs": [
                {
                    "output_type": "stream",
                    "name": "stdout",
                    "text": [
                        "root\n",
                        " |-- Name: string (nullable = true)\n",
                        " |-- age: integer (nullable = true)\n",
                        " |-- Experience: integer (nullable = true)\n",
                        " |-- Salary: integer (nullable = true)\n",
                        "\n"
                    ]
                }
            ],
            "metadata": {}
        },
        {
            "cell_type": "code",
            "execution_count": 30,
            "source": [
                "## Select multiple Columns\n",
                "df.select(['Name', 'Age']).show()"
            ],
            "outputs": [
                {
                    "output_type": "stream",
                    "name": "stdout",
                    "text": [
                        "+---------+---+\n",
                        "|     Name|Age|\n",
                        "+---------+---+\n",
                        "|    Krish| 31|\n",
                        "|Sudhanshu| 30|\n",
                        "|    Sunny| 29|\n",
                        "|     Paul| 24|\n",
                        "|   Harsha| 21|\n",
                        "|  Shubham| 23|\n",
                        "+---------+---+\n",
                        "\n"
                    ]
                }
            ],
            "metadata": {}
        },
        {
            "cell_type": "code",
            "execution_count": 32,
            "source": [
                "## Data types\n",
                "df.dtypes"
            ],
            "outputs": [
                {
                    "output_type": "execute_result",
                    "data": {
                        "text/plain": [
                            "[('Name', 'string'), ('age', 'int'), ('Experience', 'int'), ('Salary', 'int')]"
                        ]
                    },
                    "metadata": {},
                    "execution_count": 32
                }
            ],
            "metadata": {}
        },
        {
            "cell_type": "code",
            "execution_count": 34,
            "source": [
                "## Describing Dataframe's Columns\n",
                "df.describe().show()"
            ],
            "outputs": [
                {
                    "output_type": "stream",
                    "name": "stdout",
                    "text": [
                        "+-------+------+------------------+-----------------+------------------+\n",
                        "|summary|  Name|               age|       Experience|            Salary|\n",
                        "+-------+------+------------------+-----------------+------------------+\n",
                        "|  count|     6|                 6|                6|                 6|\n",
                        "|   mean|  null|26.333333333333332|4.666666666666667|21333.333333333332|\n",
                        "| stddev|  null| 4.179314138308661|3.559026084010437| 5354.126134736337|\n",
                        "|    min|Harsha|                21|                1|             15000|\n",
                        "|    max| Sunny|                31|               10|             30000|\n",
                        "+-------+------+------------------+-----------------+------------------+\n",
                        "\n"
                    ]
                }
            ],
            "metadata": {}
        },
        {
            "cell_type": "code",
            "execution_count": 36,
            "source": [
                "## Adding/Creating new Columns\n",
                "df=df.withColumn('Experience After 3 Years', df['Experience']+3)\n",
                "df.show()"
            ],
            "outputs": [
                {
                    "output_type": "stream",
                    "name": "stdout",
                    "text": [
                        "+---------+---+----------+------+------------------------+\n",
                        "|     Name|age|Experience|Salary|Experience After 3 Years|\n",
                        "+---------+---+----------+------+------------------------+\n",
                        "|    Krish| 31|        10| 30000|                      13|\n",
                        "|Sudhanshu| 30|         8| 25000|                      11|\n",
                        "|    Sunny| 29|         4| 20000|                       7|\n",
                        "|     Paul| 24|         3| 20000|                       6|\n",
                        "|   Harsha| 21|         1| 15000|                       4|\n",
                        "|  Shubham| 23|         2| 18000|                       5|\n",
                        "+---------+---+----------+------+------------------------+\n",
                        "\n"
                    ]
                }
            ],
            "metadata": {}
        },
        {
            "cell_type": "code",
            "execution_count": 37,
            "source": [
                "## Dropping Columns\n",
                "df=df.drop('Experience After 3 Years')\n",
                "df.show()"
            ],
            "outputs": [
                {
                    "output_type": "stream",
                    "name": "stdout",
                    "text": [
                        "+---------+---+----------+------+\n",
                        "|     Name|age|Experience|Salary|\n",
                        "+---------+---+----------+------+\n",
                        "|    Krish| 31|        10| 30000|\n",
                        "|Sudhanshu| 30|         8| 25000|\n",
                        "|    Sunny| 29|         4| 20000|\n",
                        "|     Paul| 24|         3| 20000|\n",
                        "|   Harsha| 21|         1| 15000|\n",
                        "|  Shubham| 23|         2| 18000|\n",
                        "+---------+---+----------+------+\n",
                        "\n"
                    ]
                }
            ],
            "metadata": {}
        },
        {
            "cell_type": "code",
            "execution_count": 38,
            "source": [
                "## Renaming Columns\n",
                "df.withColumnRenamed('Name', 'Another Name').show()\n"
            ],
            "outputs": [
                {
                    "output_type": "stream",
                    "name": "stdout",
                    "text": [
                        "+------------+---+----------+------+\n",
                        "|Another Name|age|Experience|Salary|\n",
                        "+------------+---+----------+------+\n",
                        "|       Krish| 31|        10| 30000|\n",
                        "|   Sudhanshu| 30|         8| 25000|\n",
                        "|       Sunny| 29|         4| 20000|\n",
                        "|        Paul| 24|         3| 20000|\n",
                        "|      Harsha| 21|         1| 15000|\n",
                        "|     Shubham| 23|         2| 18000|\n",
                        "+------------+---+----------+------+\n",
                        "\n"
                    ]
                }
            ],
            "metadata": {}
        },
        {
            "cell_type": "code",
            "execution_count": 40,
            "source": [
                "FilePath2= pathlib.Path().resolve() / 'test2.csv'\n",
                "print(FilePath2)"
            ],
            "outputs": [
                {
                    "output_type": "stream",
                    "name": "stdout",
                    "text": [
                        "/home/javier/Documents/DEV/PySpark/test2.csv\n"
                    ]
                }
            ],
            "metadata": {}
        },
        {
            "cell_type": "code",
            "execution_count": 41,
            "source": [
                "df2=sqlconext.read.csv(str(FilePath2),header=True, inferSchema=True)"
            ],
            "outputs": [],
            "metadata": {}
        },
        {
            "cell_type": "code",
            "execution_count": 42,
            "source": [
                "df2.show()"
            ],
            "outputs": [
                {
                    "output_type": "stream",
                    "name": "stdout",
                    "text": [
                        "+---------+----+----------+------+\n",
                        "|     Name| age|Experience|Salary|\n",
                        "+---------+----+----------+------+\n",
                        "|    Krish|  31|        10| 30000|\n",
                        "|Sudhanshu|  30|         8| 25000|\n",
                        "|    Sunny|  29|         4| 20000|\n",
                        "|     Paul|  24|         3| 20000|\n",
                        "|   Harsha|  21|         1| 15000|\n",
                        "|  Shubham|  23|         2| 18000|\n",
                        "|   Mahesh|null|      null| 40000|\n",
                        "|     null|  34|        10| 38000|\n",
                        "|     null|  36|      null|  null|\n",
                        "+---------+----+----------+------+\n",
                        "\n"
                    ]
                }
            ],
            "metadata": {}
        },
        {
            "cell_type": "code",
            "execution_count": 43,
            "source": [
                "## Dropping Columns\n",
                "df2.drop('Name').show()"
            ],
            "outputs": [
                {
                    "output_type": "stream",
                    "name": "stdout",
                    "text": [
                        "+----+----------+------+\n",
                        "| age|Experience|Salary|\n",
                        "+----+----------+------+\n",
                        "|  31|        10| 30000|\n",
                        "|  30|         8| 25000|\n",
                        "|  29|         4| 20000|\n",
                        "|  24|         3| 20000|\n",
                        "|  21|         1| 15000|\n",
                        "|  23|         2| 18000|\n",
                        "|null|      null| 40000|\n",
                        "|  34|        10| 38000|\n",
                        "|  36|      null|  null|\n",
                        "+----+----------+------+\n",
                        "\n"
                    ]
                }
            ],
            "metadata": {}
        },
        {
            "cell_type": "code",
            "execution_count": 44,
            "source": [
                "## Dropping rows\n",
                "# how=\"any\"\n",
                "df2.na.drop().show()"
            ],
            "outputs": [
                {
                    "output_type": "stream",
                    "name": "stdout",
                    "text": [
                        "+---------+---+----------+------+\n",
                        "|     Name|age|Experience|Salary|\n",
                        "+---------+---+----------+------+\n",
                        "|    Krish| 31|        10| 30000|\n",
                        "|Sudhanshu| 30|         8| 25000|\n",
                        "|    Sunny| 29|         4| 20000|\n",
                        "|     Paul| 24|         3| 20000|\n",
                        "|   Harsha| 21|         1| 15000|\n",
                        "|  Shubham| 23|         2| 18000|\n",
                        "+---------+---+----------+------+\n",
                        "\n"
                    ]
                }
            ],
            "metadata": {}
        },
        {
            "cell_type": "code",
            "execution_count": 45,
            "source": [
                "## Dropping rows\n",
                "# how=\"any\" if one of the values for the row is null, it will be dropped\n",
                "df2.na.drop(how=\"any\").show()"
            ],
            "outputs": [
                {
                    "output_type": "stream",
                    "name": "stdout",
                    "text": [
                        "+---------+---+----------+------+\n",
                        "|     Name|age|Experience|Salary|\n",
                        "+---------+---+----------+------+\n",
                        "|    Krish| 31|        10| 30000|\n",
                        "|Sudhanshu| 30|         8| 25000|\n",
                        "|    Sunny| 29|         4| 20000|\n",
                        "|     Paul| 24|         3| 20000|\n",
                        "|   Harsha| 21|         1| 15000|\n",
                        "|  Shubham| 23|         2| 18000|\n",
                        "+---------+---+----------+------+\n",
                        "\n"
                    ]
                }
            ],
            "metadata": {}
        },
        {
            "cell_type": "code",
            "execution_count": 46,
            "source": [
                "## Dropping rows\n",
                "# thresh=n if more than n of the values for the row are null, the row will be dropped\n",
                "df2.na.drop(how=\"any\", thresh=2).show()"
            ],
            "outputs": [
                {
                    "output_type": "stream",
                    "name": "stdout",
                    "text": [
                        "+---------+----+----------+------+\n",
                        "|     Name| age|Experience|Salary|\n",
                        "+---------+----+----------+------+\n",
                        "|    Krish|  31|        10| 30000|\n",
                        "|Sudhanshu|  30|         8| 25000|\n",
                        "|    Sunny|  29|         4| 20000|\n",
                        "|     Paul|  24|         3| 20000|\n",
                        "|   Harsha|  21|         1| 15000|\n",
                        "|  Shubham|  23|         2| 18000|\n",
                        "|   Mahesh|null|      null| 40000|\n",
                        "|     null|  34|        10| 38000|\n",
                        "+---------+----+----------+------+\n",
                        "\n"
                    ]
                }
            ],
            "metadata": {}
        },
        {
            "cell_type": "code",
            "execution_count": 47,
            "source": [
                "## Dropping rows\n",
                "## subset=['Column1', 'column2', 'columnN'] rules will be verified over the subset columns\n",
                "df2.na.drop(how=\"any\", subset=['Age']).show()"
            ],
            "outputs": [
                {
                    "output_type": "stream",
                    "name": "stdout",
                    "text": [
                        "+---------+---+----------+------+\n",
                        "|     Name|age|Experience|Salary|\n",
                        "+---------+---+----------+------+\n",
                        "|    Krish| 31|        10| 30000|\n",
                        "|Sudhanshu| 30|         8| 25000|\n",
                        "|    Sunny| 29|         4| 20000|\n",
                        "|     Paul| 24|         3| 20000|\n",
                        "|   Harsha| 21|         1| 15000|\n",
                        "|  Shubham| 23|         2| 18000|\n",
                        "|     null| 34|        10| 38000|\n",
                        "|     null| 36|      null|  null|\n",
                        "+---------+---+----------+------+\n",
                        "\n"
                    ]
                }
            ],
            "metadata": {}
        },
        {
            "cell_type": "code",
            "execution_count": 66,
            "source": [
                "## FIlling missing values\n",
                "# df.na.fill('Value to fill', [List of columns to apply])\n",
                "df2.na.fill(10, ['age', 'Experience']).show()"
            ],
            "outputs": [
                {
                    "output_type": "stream",
                    "name": "stdout",
                    "text": [
                        "+---------+---+----------+------+\n",
                        "|     Name|age|Experience|Salary|\n",
                        "+---------+---+----------+------+\n",
                        "|    Krish| 31|        10| 30000|\n",
                        "|Sudhanshu| 30|         8| 25000|\n",
                        "|    Sunny| 29|         4| 20000|\n",
                        "|     Paul| 24|         3| 20000|\n",
                        "|   Harsha| 21|         1| 15000|\n",
                        "|  Shubham| 23|         2| 18000|\n",
                        "|   Mahesh| 10|        10| 40000|\n",
                        "|     null| 34|        10| 38000|\n",
                        "|     null| 36|        10|  null|\n",
                        "+---------+---+----------+------+\n",
                        "\n"
                    ]
                }
            ],
            "metadata": {}
        },
        {
            "cell_type": "code",
            "execution_count": 67,
            "source": [
                "## Original DataFrame\n",
                "df2.show()"
            ],
            "outputs": [
                {
                    "output_type": "stream",
                    "name": "stdout",
                    "text": [
                        "+---------+----+----------+------+\n",
                        "|     Name| age|Experience|Salary|\n",
                        "+---------+----+----------+------+\n",
                        "|    Krish|  31|        10| 30000|\n",
                        "|Sudhanshu|  30|         8| 25000|\n",
                        "|    Sunny|  29|         4| 20000|\n",
                        "|     Paul|  24|         3| 20000|\n",
                        "|   Harsha|  21|         1| 15000|\n",
                        "|  Shubham|  23|         2| 18000|\n",
                        "|   Mahesh|null|      null| 40000|\n",
                        "|     null|  34|        10| 38000|\n",
                        "|     null|  36|      null|  null|\n",
                        "+---------+----+----------+------+\n",
                        "\n"
                    ]
                }
            ],
            "metadata": {}
        },
        {
            "cell_type": "code",
            "execution_count": 71,
            "source": [
                "## Imputing missing values\n",
                "import numpy\n",
                "from pyspark.ml.feature import Imputer\n",
                "imputer = Imputer(\n",
                "    inputCols=['age', 'Experience', 'Salary'],\n",
                "    outputCols=[\"{}_imputed\".format(c) for c in ['age','Experience', 'Salary']]\n",
                ").setStrategy(\"mean\")"
            ],
            "outputs": [],
            "metadata": {}
        },
        {
            "cell_type": "code",
            "execution_count": 73,
            "source": [
                "imputer.fit(df2).transform(df2).show()"
            ],
            "outputs": [
                {
                    "output_type": "stream",
                    "name": "stdout",
                    "text": [
                        "+---------+----+----------+------+-----------+------------------+--------------+\n",
                        "|     Name| age|Experience|Salary|age_imputed|Experience_imputed|Salary_imputed|\n",
                        "+---------+----+----------+------+-----------+------------------+--------------+\n",
                        "|    Krish|  31|        10| 30000|         31|                10|         30000|\n",
                        "|Sudhanshu|  30|         8| 25000|         30|                 8|         25000|\n",
                        "|    Sunny|  29|         4| 20000|         29|                 4|         20000|\n",
                        "|     Paul|  24|         3| 20000|         24|                 3|         20000|\n",
                        "|   Harsha|  21|         1| 15000|         21|                 1|         15000|\n",
                        "|  Shubham|  23|         2| 18000|         23|                 2|         18000|\n",
                        "|   Mahesh|null|      null| 40000|         28|                 5|         40000|\n",
                        "|     null|  34|        10| 38000|         34|                10|         38000|\n",
                        "|     null|  36|      null|  null|         36|                 5|         25750|\n",
                        "+---------+----+----------+------+-----------+------------------+--------------+\n",
                        "\n"
                    ]
                }
            ],
            "metadata": {}
        },
        {
            "cell_type": "code",
            "execution_count": 74,
            "source": [
                "sc.stop()"
            ],
            "outputs": [],
            "metadata": {}
        }
    ],
    "metadata": {
        "orig_nbformat": 4,
        "language_info": {
            "name": "python",
            "version": "3.8.10",
            "mimetype": "text/x-python",
            "codemirror_mode": {
                "name": "ipython",
                "version": 3
            },
            "pygments_lexer": "ipython3",
            "nbconvert_exporter": "python",
            "file_extension": ".py"
        },
        "kernelspec": {
            "name": "python3",
            "display_name": "Python 3.8.10 64-bit ('PySpark-HwgJOz1g': venv)"
        },
        "interpreter": {
            "hash": "89c857050813d787456e78e3b84c55d5d1e6c5cdcb077ca7bb2524c0be900f18"
        }
    },
    "nbformat": 4,
    "nbformat_minor": 2
}